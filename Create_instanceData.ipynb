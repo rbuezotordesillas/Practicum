{
 "cells": [
  {
   "cell_type": "markdown",
   "metadata": {},
   "source": [
    "# Load Libraries"
   ]
  },
  {
   "cell_type": "code",
   "execution_count": 1,
   "metadata": {},
   "outputs": [],
   "source": [
    "import numpy as np\n",
    "import pandas as pd\n",
    "import json\n",
    "from pathlib import Path\n",
    "import re"
   ]
  },
  {
   "cell_type": "markdown",
   "metadata": {},
   "source": [
    "## Load tag data"
   ]
  },
  {
   "cell_type": "code",
   "execution_count": 2,
   "metadata": {},
   "outputs": [],
   "source": [
    "file = r'./domain_instances.xls'\n",
    "tagDF = pd.read_excel(file)"
   ]
  },
  {
   "cell_type": "code",
   "execution_count": 3,
   "metadata": {
    "scrolled": false
   },
   "outputs": [
    {
     "data": {
      "text/html": [
       "<div>\n",
       "<style scoped>\n",
       "    .dataframe tbody tr th:only-of-type {\n",
       "        vertical-align: middle;\n",
       "    }\n",
       "\n",
       "    .dataframe tbody tr th {\n",
       "        vertical-align: top;\n",
       "    }\n",
       "\n",
       "    .dataframe thead th {\n",
       "        text-align: right;\n",
       "    }\n",
       "</style>\n",
       "<table border=\"1\" class=\"dataframe\">\n",
       "  <thead>\n",
       "    <tr style=\"text-align: right;\">\n",
       "      <th></th>\n",
       "      <th>Environment</th>\n",
       "      <th>Domain</th>\n",
       "      <th>Host</th>\n",
       "      <th>LOB</th>\n",
       "      <th>Portfolio</th>\n",
       "      <th>Product</th>\n",
       "      <th>Application</th>\n",
       "      <th>Owner</th>\n",
       "    </tr>\n",
       "  </thead>\n",
       "  <tbody>\n",
       "    <tr>\n",
       "      <th>0</th>\n",
       "      <td>DEV0</td>\n",
       "      <td>ASSIGNMENT</td>\n",
       "      <td>assignmentadm001.da.aws.cccis.com</td>\n",
       "      <td>ISG</td>\n",
       "      <td>Workflow</td>\n",
       "      <td>Claims Management</td>\n",
       "      <td>NaN</td>\n",
       "      <td>build</td>\n",
       "    </tr>\n",
       "    <tr>\n",
       "      <th>1</th>\n",
       "      <td>DEV0</td>\n",
       "      <td>ASSIGNMENT</td>\n",
       "      <td>assignmentodrp001.da.aws.cccis.com</td>\n",
       "      <td>ISG</td>\n",
       "      <td>Workflow</td>\n",
       "      <td>Claims Management</td>\n",
       "      <td>NaN</td>\n",
       "      <td>build</td>\n",
       "    </tr>\n",
       "    <tr>\n",
       "      <th>2</th>\n",
       "      <td>DEV0</td>\n",
       "      <td>ASSIGNMENT</td>\n",
       "      <td>assignmentodrp002.da.aws.cccis.com</td>\n",
       "      <td>ISG</td>\n",
       "      <td>Workflow</td>\n",
       "      <td>Claims Management</td>\n",
       "      <td>NaN</td>\n",
       "      <td>build</td>\n",
       "    </tr>\n",
       "    <tr>\n",
       "      <th>3</th>\n",
       "      <td>DEV0</td>\n",
       "      <td>ASSIGNMENT</td>\n",
       "      <td>assignmentappraiser001.da.aws.cccis.com</td>\n",
       "      <td>ISG</td>\n",
       "      <td>Workflow</td>\n",
       "      <td>Appraiser Management</td>\n",
       "      <td>NaN</td>\n",
       "      <td>build</td>\n",
       "    </tr>\n",
       "    <tr>\n",
       "      <th>4</th>\n",
       "      <td>DEV0</td>\n",
       "      <td>ASSIGNMENT</td>\n",
       "      <td>assignmentappraiser002.da.aws.cccis.com</td>\n",
       "      <td>ISG</td>\n",
       "      <td>Workflow</td>\n",
       "      <td>Appraiser Management</td>\n",
       "      <td>NaN</td>\n",
       "      <td>build</td>\n",
       "    </tr>\n",
       "  </tbody>\n",
       "</table>\n",
       "</div>"
      ],
      "text/plain": [
       "  Environment      Domain                                     Host  LOB  \\\n",
       "0        DEV0  ASSIGNMENT        assignmentadm001.da.aws.cccis.com  ISG   \n",
       "1        DEV0  ASSIGNMENT       assignmentodrp001.da.aws.cccis.com  ISG   \n",
       "2        DEV0  ASSIGNMENT       assignmentodrp002.da.aws.cccis.com  ISG   \n",
       "3        DEV0  ASSIGNMENT  assignmentappraiser001.da.aws.cccis.com  ISG   \n",
       "4        DEV0  ASSIGNMENT  assignmentappraiser002.da.aws.cccis.com  ISG   \n",
       "\n",
       "  Portfolio               Product Application  Owner  \n",
       "0  Workflow     Claims Management         NaN  build  \n",
       "1  Workflow     Claims Management         NaN  build  \n",
       "2  Workflow     Claims Management         NaN  build  \n",
       "3  Workflow  Appraiser Management         NaN  build  \n",
       "4  Workflow  Appraiser Management         NaN  build  "
      ]
     },
     "execution_count": 3,
     "metadata": {},
     "output_type": "execute_result"
    }
   ],
   "source": [
    "tagDF.head()"
   ]
  },
  {
   "cell_type": "code",
   "execution_count": 4,
   "metadata": {},
   "outputs": [
    {
     "data": {
      "text/plain": [
       "934"
      ]
     },
     "execution_count": 4,
     "metadata": {},
     "output_type": "execute_result"
    }
   ],
   "source": [
    "len(tagDF.Host.unique())"
   ]
  },
  {
   "cell_type": "markdown",
   "metadata": {},
   "source": [
    "## Load instance data"
   ]
  },
  {
   "cell_type": "code",
   "execution_count": 5,
   "metadata": {},
   "outputs": [],
   "source": [
    "file = r'./domain_volume.xlsm'\n",
    "instanceDF = pd.read_excel(file)"
   ]
  },
  {
   "cell_type": "code",
   "execution_count": 6,
   "metadata": {
    "scrolled": true
   },
   "outputs": [
    {
     "data": {
      "text/html": [
       "<div>\n",
       "<style scoped>\n",
       "    .dataframe tbody tr th:only-of-type {\n",
       "        vertical-align: middle;\n",
       "    }\n",
       "\n",
       "    .dataframe tbody tr th {\n",
       "        vertical-align: top;\n",
       "    }\n",
       "\n",
       "    .dataframe thead th {\n",
       "        text-align: right;\n",
       "    }\n",
       "</style>\n",
       "<table border=\"1\" class=\"dataframe\">\n",
       "  <thead>\n",
       "    <tr style=\"text-align: right;\">\n",
       "      <th></th>\n",
       "      <th>Instance_id</th>\n",
       "      <th>Instance_name</th>\n",
       "      <th>Volume_id</th>\n",
       "      <th>LOB</th>\n",
       "      <th>Portfolio</th>\n",
       "      <th>Product</th>\n",
       "      <th>Application</th>\n",
       "      <th>Owner</th>\n",
       "      <th>Unnamed: 8</th>\n",
       "      <th>Unnamed: 9</th>\n",
       "      <th>...</th>\n",
       "      <th>Unnamed: 16374</th>\n",
       "      <th>Unnamed: 16375</th>\n",
       "      <th>Unnamed: 16376</th>\n",
       "      <th>Unnamed: 16377</th>\n",
       "      <th>Unnamed: 16378</th>\n",
       "      <th>Unnamed: 16379</th>\n",
       "      <th>Unnamed: 16380</th>\n",
       "      <th>Unnamed: 16381</th>\n",
       "      <th>Unnamed: 16382</th>\n",
       "      <th>Unnamed: 16383</th>\n",
       "    </tr>\n",
       "  </thead>\n",
       "  <tbody>\n",
       "    <tr>\n",
       "      <th>0</th>\n",
       "      <td>i-f982d879</td>\n",
       "      <td>intrnladm001.da.aws.cccis.com</td>\n",
       "      <td>vol-14006bcb</td>\n",
       "      <td>Enterprise Services</td>\n",
       "      <td>Shared Services</td>\n",
       "      <td>Messaging</td>\n",
       "      <td>Internal Email</td>\n",
       "      <td>build</td>\n",
       "      <td>NaN</td>\n",
       "      <td>NaN</td>\n",
       "      <td>...</td>\n",
       "      <td>NaN</td>\n",
       "      <td>NaN</td>\n",
       "      <td>NaN</td>\n",
       "      <td>NaN</td>\n",
       "      <td>NaN</td>\n",
       "      <td>NaN</td>\n",
       "      <td>NaN</td>\n",
       "      <td>NaN</td>\n",
       "      <td>NaN</td>\n",
       "      <td>NaN</td>\n",
       "    </tr>\n",
       "    <tr>\n",
       "      <th>1</th>\n",
       "      <td>i-0c44ab2f63f3ddda7</td>\n",
       "      <td>RHEL 7.3 Mini Test</td>\n",
       "      <td>vol-069027e027c4820e8</td>\n",
       "      <td>Enterprise Services</td>\n",
       "      <td>Infrastructure</td>\n",
       "      <td>Systems Management</td>\n",
       "      <td>Back up</td>\n",
       "      <td>aptashnik</td>\n",
       "      <td>modified</td>\n",
       "      <td>NaN</td>\n",
       "      <td>...</td>\n",
       "      <td>NaN</td>\n",
       "      <td>NaN</td>\n",
       "      <td>NaN</td>\n",
       "      <td>NaN</td>\n",
       "      <td>NaN</td>\n",
       "      <td>NaN</td>\n",
       "      <td>NaN</td>\n",
       "      <td>NaN</td>\n",
       "      <td>NaN</td>\n",
       "      <td>NaN</td>\n",
       "    </tr>\n",
       "    <tr>\n",
       "      <th>2</th>\n",
       "      <td>i-02bfb7e7e1766d267</td>\n",
       "      <td>elk-cccis-ls-001</td>\n",
       "      <td>vol-0680f23d605869a20</td>\n",
       "      <td>Enterprise Services</td>\n",
       "      <td>Infrastructure</td>\n",
       "      <td>Monitoring</td>\n",
       "      <td>ELK</td>\n",
       "      <td>rkrishnamurthy</td>\n",
       "      <td>NaN</td>\n",
       "      <td>NaN</td>\n",
       "      <td>...</td>\n",
       "      <td>NaN</td>\n",
       "      <td>NaN</td>\n",
       "      <td>NaN</td>\n",
       "      <td>NaN</td>\n",
       "      <td>NaN</td>\n",
       "      <td>NaN</td>\n",
       "      <td>NaN</td>\n",
       "      <td>NaN</td>\n",
       "      <td>NaN</td>\n",
       "      <td>NaN</td>\n",
       "    </tr>\n",
       "    <tr>\n",
       "      <th>3</th>\n",
       "      <td>i-02bfb7e7e1766d267</td>\n",
       "      <td>elk-cccis-ls-001</td>\n",
       "      <td>vol-09b2c79fd72a926f1</td>\n",
       "      <td>Enterprise Services</td>\n",
       "      <td>Infrastructure</td>\n",
       "      <td>Monitoring</td>\n",
       "      <td>ELK</td>\n",
       "      <td>rkrishnamurthy</td>\n",
       "      <td>NaN</td>\n",
       "      <td>NaN</td>\n",
       "      <td>...</td>\n",
       "      <td>NaN</td>\n",
       "      <td>NaN</td>\n",
       "      <td>NaN</td>\n",
       "      <td>NaN</td>\n",
       "      <td>NaN</td>\n",
       "      <td>NaN</td>\n",
       "      <td>NaN</td>\n",
       "      <td>NaN</td>\n",
       "      <td>NaN</td>\n",
       "      <td>NaN</td>\n",
       "    </tr>\n",
       "    <tr>\n",
       "      <th>4</th>\n",
       "      <td>i-02765b0493f4e8f39</td>\n",
       "      <td>Hudson-slave-001</td>\n",
       "      <td>vol-0d3455bd7dcd8263f</td>\n",
       "      <td>Enterprise Services</td>\n",
       "      <td>Infrastructure</td>\n",
       "      <td>Build Management</td>\n",
       "      <td>Hudson</td>\n",
       "      <td>rkrishnamurthy</td>\n",
       "      <td>NaN</td>\n",
       "      <td>NaN</td>\n",
       "      <td>...</td>\n",
       "      <td>NaN</td>\n",
       "      <td>NaN</td>\n",
       "      <td>NaN</td>\n",
       "      <td>NaN</td>\n",
       "      <td>NaN</td>\n",
       "      <td>NaN</td>\n",
       "      <td>NaN</td>\n",
       "      <td>NaN</td>\n",
       "      <td>NaN</td>\n",
       "      <td>NaN</td>\n",
       "    </tr>\n",
       "  </tbody>\n",
       "</table>\n",
       "<p>5 rows × 16384 columns</p>\n",
       "</div>"
      ],
      "text/plain": [
       "           Instance_id                  Instance_name              Volume_id  \\\n",
       "0           i-f982d879  intrnladm001.da.aws.cccis.com           vol-14006bcb   \n",
       "1  i-0c44ab2f63f3ddda7             RHEL 7.3 Mini Test  vol-069027e027c4820e8   \n",
       "2  i-02bfb7e7e1766d267               elk-cccis-ls-001  vol-0680f23d605869a20   \n",
       "3  i-02bfb7e7e1766d267               elk-cccis-ls-001  vol-09b2c79fd72a926f1   \n",
       "4  i-02765b0493f4e8f39               Hudson-slave-001  vol-0d3455bd7dcd8263f   \n",
       "\n",
       "                   LOB        Portfolio             Product     Application  \\\n",
       "0  Enterprise Services  Shared Services           Messaging  Internal Email   \n",
       "1  Enterprise Services   Infrastructure  Systems Management         Back up   \n",
       "2  Enterprise Services   Infrastructure          Monitoring             ELK   \n",
       "3  Enterprise Services   Infrastructure          Monitoring             ELK   \n",
       "4  Enterprise Services   Infrastructure   Build Management           Hudson   \n",
       "\n",
       "            Owner Unnamed: 8 Unnamed: 9      ...       Unnamed: 16374  \\\n",
       "0           build        NaN        NaN      ...                  NaN   \n",
       "1       aptashnik   modified        NaN      ...                  NaN   \n",
       "2  rkrishnamurthy        NaN        NaN      ...                  NaN   \n",
       "3  rkrishnamurthy        NaN        NaN      ...                  NaN   \n",
       "4  rkrishnamurthy        NaN        NaN      ...                  NaN   \n",
       "\n",
       "  Unnamed: 16375 Unnamed: 16376 Unnamed: 16377 Unnamed: 16378 Unnamed: 16379  \\\n",
       "0            NaN            NaN            NaN            NaN            NaN   \n",
       "1            NaN            NaN            NaN            NaN            NaN   \n",
       "2            NaN            NaN            NaN            NaN            NaN   \n",
       "3            NaN            NaN            NaN            NaN            NaN   \n",
       "4            NaN            NaN            NaN            NaN            NaN   \n",
       "\n",
       "  Unnamed: 16380 Unnamed: 16381 Unnamed: 16382 Unnamed: 16383  \n",
       "0            NaN            NaN            NaN            NaN  \n",
       "1            NaN            NaN            NaN            NaN  \n",
       "2            NaN            NaN            NaN            NaN  \n",
       "3            NaN            NaN            NaN            NaN  \n",
       "4            NaN            NaN            NaN            NaN  \n",
       "\n",
       "[5 rows x 16384 columns]"
      ]
     },
     "execution_count": 6,
     "metadata": {},
     "output_type": "execute_result"
    }
   ],
   "source": [
    "instanceDF.head()"
   ]
  },
  {
   "cell_type": "code",
   "execution_count": 7,
   "metadata": {},
   "outputs": [
    {
     "data": {
      "text/plain": [
       "1446"
      ]
     },
     "execution_count": 7,
     "metadata": {},
     "output_type": "execute_result"
    }
   ],
   "source": [
    "len(instanceDF.Instance_id.unique())"
   ]
  },
  {
   "cell_type": "markdown",
   "metadata": {},
   "source": [
    "## Load ami data"
   ]
  },
  {
   "cell_type": "code",
   "execution_count": 8,
   "metadata": {},
   "outputs": [],
   "source": [
    "file = r'./ec2_ami.csv'\n",
    "amiDF = pd.read_csv(file, header=None)\n",
    "amiDF.columns = ['i_id', 'ami']"
   ]
  },
  {
   "cell_type": "code",
   "execution_count": 9,
   "metadata": {},
   "outputs": [
    {
     "data": {
      "text/html": [
       "<div>\n",
       "<style scoped>\n",
       "    .dataframe tbody tr th:only-of-type {\n",
       "        vertical-align: middle;\n",
       "    }\n",
       "\n",
       "    .dataframe tbody tr th {\n",
       "        vertical-align: top;\n",
       "    }\n",
       "\n",
       "    .dataframe thead th {\n",
       "        text-align: right;\n",
       "    }\n",
       "</style>\n",
       "<table border=\"1\" class=\"dataframe\">\n",
       "  <thead>\n",
       "    <tr style=\"text-align: right;\">\n",
       "      <th></th>\n",
       "      <th>i_id</th>\n",
       "      <th>ami</th>\n",
       "    </tr>\n",
       "  </thead>\n",
       "  <tbody>\n",
       "    <tr>\n",
       "      <th>0</th>\n",
       "      <td>i-0c908b1552a684ef7</td>\n",
       "      <td>ami-6374af08</td>\n",
       "    </tr>\n",
       "    <tr>\n",
       "      <th>1</th>\n",
       "      <td>i-6ed4c4d1</td>\n",
       "      <td>ami-12ebbd7a</td>\n",
       "    </tr>\n",
       "    <tr>\n",
       "      <th>2</th>\n",
       "      <td>i-04ae568770a61d549</td>\n",
       "      <td>ami-722fe11f</td>\n",
       "    </tr>\n",
       "    <tr>\n",
       "      <th>3</th>\n",
       "      <td>i-048781e21c711a091</td>\n",
       "      <td>ami-1f7b2a08</td>\n",
       "    </tr>\n",
       "    <tr>\n",
       "      <th>4</th>\n",
       "      <td>i-afbafa0c</td>\n",
       "      <td>ami-b0210ed8</td>\n",
       "    </tr>\n",
       "  </tbody>\n",
       "</table>\n",
       "</div>"
      ],
      "text/plain": [
       "                  i_id           ami\n",
       "0  i-0c908b1552a684ef7  ami-6374af08\n",
       "1           i-6ed4c4d1  ami-12ebbd7a\n",
       "2  i-04ae568770a61d549  ami-722fe11f\n",
       "3  i-048781e21c711a091  ami-1f7b2a08\n",
       "4           i-afbafa0c  ami-b0210ed8"
      ]
     },
     "execution_count": 9,
     "metadata": {},
     "output_type": "execute_result"
    }
   ],
   "source": [
    "amiDF.head()"
   ]
  },
  {
   "cell_type": "code",
   "execution_count": 10,
   "metadata": {},
   "outputs": [
    {
     "data": {
      "text/plain": [
       "1449"
      ]
     },
     "execution_count": 10,
     "metadata": {},
     "output_type": "execute_result"
    }
   ],
   "source": [
    "len(amiDF.i_id.unique())"
   ]
  },
  {
   "cell_type": "markdown",
   "metadata": {},
   "source": [
    "## Create DF for instance info"
   ]
  },
  {
   "cell_type": "code",
   "execution_count": 11,
   "metadata": {},
   "outputs": [],
   "source": [
    "# of the 934 instances for our analysis (in the tag data)\n",
    "# id, host (instance name), ami\n",
    "\n",
    "# merge tag data with instance data (obtain host name and id)\n",
    "merged = pd.merge(tagDF, instanceDF, how='inner', left_on=['Host'], right_on=['Instance_name'])\n",
    "host_id = merged[['Host', 'Instance_id']]"
   ]
  },
  {
   "cell_type": "code",
   "execution_count": 12,
   "metadata": {
    "scrolled": true
   },
   "outputs": [
    {
     "data": {
      "text/html": [
       "<div>\n",
       "<style scoped>\n",
       "    .dataframe tbody tr th:only-of-type {\n",
       "        vertical-align: middle;\n",
       "    }\n",
       "\n",
       "    .dataframe tbody tr th {\n",
       "        vertical-align: top;\n",
       "    }\n",
       "\n",
       "    .dataframe thead th {\n",
       "        text-align: right;\n",
       "    }\n",
       "</style>\n",
       "<table border=\"1\" class=\"dataframe\">\n",
       "  <thead>\n",
       "    <tr style=\"text-align: right;\">\n",
       "      <th></th>\n",
       "      <th>Host</th>\n",
       "      <th>Instance_id</th>\n",
       "    </tr>\n",
       "  </thead>\n",
       "  <tbody>\n",
       "    <tr>\n",
       "      <th>0</th>\n",
       "      <td>assignmentadm001.da.aws.cccis.com</td>\n",
       "      <td>i-04b7e0ef13ecdba59</td>\n",
       "    </tr>\n",
       "    <tr>\n",
       "      <th>1</th>\n",
       "      <td>assignmentodrp001.da.aws.cccis.com</td>\n",
       "      <td>i-0b947ccb2dce8a044</td>\n",
       "    </tr>\n",
       "    <tr>\n",
       "      <th>2</th>\n",
       "      <td>assignmentodrp002.da.aws.cccis.com</td>\n",
       "      <td>i-036d5c00f77ba5fa0</td>\n",
       "    </tr>\n",
       "    <tr>\n",
       "      <th>3</th>\n",
       "      <td>assignmentappraiser001.da.aws.cccis.com</td>\n",
       "      <td>i-0ac3524dde42e2a12</td>\n",
       "    </tr>\n",
       "    <tr>\n",
       "      <th>4</th>\n",
       "      <td>assignmentappraiser002.da.aws.cccis.com</td>\n",
       "      <td>i-0abd88a93f2a55b1e</td>\n",
       "    </tr>\n",
       "  </tbody>\n",
       "</table>\n",
       "</div>"
      ],
      "text/plain": [
       "                                      Host          Instance_id\n",
       "0        assignmentadm001.da.aws.cccis.com  i-04b7e0ef13ecdba59\n",
       "1       assignmentodrp001.da.aws.cccis.com  i-0b947ccb2dce8a044\n",
       "2       assignmentodrp002.da.aws.cccis.com  i-036d5c00f77ba5fa0\n",
       "3  assignmentappraiser001.da.aws.cccis.com  i-0ac3524dde42e2a12\n",
       "4  assignmentappraiser002.da.aws.cccis.com  i-0abd88a93f2a55b1e"
      ]
     },
     "execution_count": 12,
     "metadata": {},
     "output_type": "execute_result"
    }
   ],
   "source": [
    "host_id.head()"
   ]
  },
  {
   "cell_type": "code",
   "execution_count": 13,
   "metadata": {},
   "outputs": [
    {
     "data": {
      "text/plain": [
       "940"
      ]
     },
     "execution_count": 13,
     "metadata": {},
     "output_type": "execute_result"
    }
   ],
   "source": [
    "len(host_id)"
   ]
  },
  {
   "cell_type": "code",
   "execution_count": 14,
   "metadata": {
    "scrolled": true
   },
   "outputs": [
    {
     "data": {
      "text/plain": [
       "926"
      ]
     },
     "execution_count": 14,
     "metadata": {},
     "output_type": "execute_result"
    }
   ],
   "source": [
    "len(host_id.Host.unique())"
   ]
  },
  {
   "cell_type": "code",
   "execution_count": 15,
   "metadata": {},
   "outputs": [],
   "source": [
    "# keep only unique \n",
    "host_id = host_id.drop_duplicates()"
   ]
  },
  {
   "cell_type": "code",
   "execution_count": 16,
   "metadata": {},
   "outputs": [
    {
     "data": {
      "text/plain": [
       "926"
      ]
     },
     "execution_count": 16,
     "metadata": {},
     "output_type": "execute_result"
    }
   ],
   "source": [
    "len(host_id)"
   ]
  },
  {
   "cell_type": "code",
   "execution_count": 17,
   "metadata": {},
   "outputs": [],
   "source": [
    "# merge with ami \n",
    "\n",
    "merged2 = pd.merge(host_id, amiDF, how='inner', left_on=['Instance_id'], right_on=['i_id'])\n",
    "i_ami = merged2.drop(['i_id'], axis=1)"
   ]
  },
  {
   "cell_type": "code",
   "execution_count": 18,
   "metadata": {
    "scrolled": false
   },
   "outputs": [
    {
     "data": {
      "text/html": [
       "<div>\n",
       "<style scoped>\n",
       "    .dataframe tbody tr th:only-of-type {\n",
       "        vertical-align: middle;\n",
       "    }\n",
       "\n",
       "    .dataframe tbody tr th {\n",
       "        vertical-align: top;\n",
       "    }\n",
       "\n",
       "    .dataframe thead th {\n",
       "        text-align: right;\n",
       "    }\n",
       "</style>\n",
       "<table border=\"1\" class=\"dataframe\">\n",
       "  <thead>\n",
       "    <tr style=\"text-align: right;\">\n",
       "      <th></th>\n",
       "      <th>Host</th>\n",
       "      <th>Instance_id</th>\n",
       "      <th>ami</th>\n",
       "    </tr>\n",
       "  </thead>\n",
       "  <tbody>\n",
       "    <tr>\n",
       "      <th>0</th>\n",
       "      <td>assignmentadm001.da.aws.cccis.com</td>\n",
       "      <td>i-04b7e0ef13ecdba59</td>\n",
       "      <td>ami-722fe11f</td>\n",
       "    </tr>\n",
       "    <tr>\n",
       "      <th>1</th>\n",
       "      <td>assignmentodrp001.da.aws.cccis.com</td>\n",
       "      <td>i-0b947ccb2dce8a044</td>\n",
       "      <td>ami-722fe11f</td>\n",
       "    </tr>\n",
       "    <tr>\n",
       "      <th>2</th>\n",
       "      <td>assignmentodrp002.da.aws.cccis.com</td>\n",
       "      <td>i-036d5c00f77ba5fa0</td>\n",
       "      <td>ami-722fe11f</td>\n",
       "    </tr>\n",
       "    <tr>\n",
       "      <th>3</th>\n",
       "      <td>assignmentappraiser001.da.aws.cccis.com</td>\n",
       "      <td>i-0ac3524dde42e2a12</td>\n",
       "      <td>ami-722fe11f</td>\n",
       "    </tr>\n",
       "    <tr>\n",
       "      <th>4</th>\n",
       "      <td>assignmentappraiser002.da.aws.cccis.com</td>\n",
       "      <td>i-0abd88a93f2a55b1e</td>\n",
       "      <td>ami-722fe11f</td>\n",
       "    </tr>\n",
       "  </tbody>\n",
       "</table>\n",
       "</div>"
      ],
      "text/plain": [
       "                                      Host          Instance_id           ami\n",
       "0        assignmentadm001.da.aws.cccis.com  i-04b7e0ef13ecdba59  ami-722fe11f\n",
       "1       assignmentodrp001.da.aws.cccis.com  i-0b947ccb2dce8a044  ami-722fe11f\n",
       "2       assignmentodrp002.da.aws.cccis.com  i-036d5c00f77ba5fa0  ami-722fe11f\n",
       "3  assignmentappraiser001.da.aws.cccis.com  i-0ac3524dde42e2a12  ami-722fe11f\n",
       "4  assignmentappraiser002.da.aws.cccis.com  i-0abd88a93f2a55b1e  ami-722fe11f"
      ]
     },
     "execution_count": 18,
     "metadata": {},
     "output_type": "execute_result"
    }
   ],
   "source": [
    "i_ami.head()"
   ]
  },
  {
   "cell_type": "code",
   "execution_count": 19,
   "metadata": {},
   "outputs": [
    {
     "data": {
      "text/plain": [
       "926"
      ]
     },
     "execution_count": 19,
     "metadata": {},
     "output_type": "execute_result"
    }
   ],
   "source": [
    "len(i_ami.Host.unique())"
   ]
  },
  {
   "cell_type": "code",
   "execution_count": 20,
   "metadata": {},
   "outputs": [
    {
     "data": {
      "text/plain": [
       "16"
      ]
     },
     "execution_count": 20,
     "metadata": {},
     "output_type": "execute_result"
    }
   ],
   "source": [
    "len(i_ami.ami.unique())"
   ]
  },
  {
   "cell_type": "code",
   "execution_count": 21,
   "metadata": {},
   "outputs": [
    {
     "data": {
      "text/plain": [
       "926"
      ]
     },
     "execution_count": 21,
     "metadata": {},
     "output_type": "execute_result"
    }
   ],
   "source": [
    "len(i_ami)"
   ]
  },
  {
   "cell_type": "markdown",
   "metadata": {},
   "source": [
    "## Save Instance info Dataframe"
   ]
  },
  {
   "cell_type": "code",
   "execution_count": 22,
   "metadata": {},
   "outputs": [],
   "source": [
    "i_ami.to_csv('./dataframes/instanceData.csv',sep=',',index=False, encoding=\"utf-8\")"
   ]
  }
 ],
 "metadata": {
  "kernelspec": {
   "display_name": "Python 3",
   "language": "python",
   "name": "python3"
  },
  "language_info": {
   "codemirror_mode": {
    "name": "ipython",
    "version": 3
   },
   "file_extension": ".py",
   "mimetype": "text/x-python",
   "name": "python",
   "nbconvert_exporter": "python",
   "pygments_lexer": "ipython3",
   "version": "3.6.5"
  }
 },
 "nbformat": 4,
 "nbformat_minor": 2
}
